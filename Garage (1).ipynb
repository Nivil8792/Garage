{
  "nbformat": 4,
  "nbformat_minor": 0,
  "metadata": {
    "colab": {
      "name": "Garage.ipynb",
      "provenance": [],
      "collapsed_sections": []
    },
    "kernelspec": {
      "name": "python3",
      "display_name": "Python 3"
    }
  },
  "cells": [
    {
      "cell_type": "code",
      "metadata": {
        "id": "xUNfXyMCokKH"
      },
      "source": [
        "class garage:\n",
        "  def __init__(self,list1):\n",
        "      self.list1=list1\n",
        "      self.records=[]   \n",
        "  def add(self,licnumber):\n",
        "      self.records.append(licnumber)\n",
        "      return self.records\n",
        "  def erasure(self,car_dic,licnumber):\n",
        "      self.car_dic=car_dic\n",
        "      self.licnumber=licnumber\n",
        "      try:\n",
        "          del car_dic[str(licnumber)]\n",
        "          return car_dic\n",
        "      except:\n",
        "          print(\"The license entered does not exist in the system\")\n",
        "          return car_dic   \n",
        "  def details(self,dic_details,licnumber,records,owner_name,model,phone_number,cost):\n",
        "      self.owner_name=owner_name\n",
        "      self.model=model\n",
        "      self.phone_number=phone_number\n",
        "      self.dic_details=dic_details\n",
        "      self.records=records\n",
        "      self.cost=cost\n",
        "      list_details=[owner_name,model,phone_number,cost]\n",
        "      if licnumber in records:\n",
        "        dic_details[licnumber]=list_details\n",
        "      else: \n",
        "         print(\"the lisence is not found, please enter new one\")\n",
        "      return self.dic_details\n",
        "  def fault(self, fault_number):\n",
        "      dic_fault={1:100,2:200,3:300,4:400}\n",
        "      if fault_number>0&fault_number<5:\n",
        "          return dic_fault[fault_number]\n",
        "      else:\n",
        "          return \"invalid number\"   \n",
        "  def add_cost(self,cost,car_dic,licnumber,records): \n",
        "      self.cost=cost\n",
        "      self.records=records\n",
        "      self.car_dic=car_dic\n",
        "      self.licnumber=licnumber\n",
        "      try:\n",
        "          list_1=car_dic[licnumber]\n",
        "          list_1[3]=str(int(list_1[3])+cost)\n",
        "          car_dic[licnumber]=list_1\n",
        "          return car_dic\n",
        "      except:\n",
        "          print(\"The license entered does not exist in the system\")\n",
        "          return car_dic  \n",
        "  def total_cost(self,car_dic,licnumber):\n",
        "      self.car_dic=car_dic\n",
        "      self.licnumber=licnumber\n",
        "      det=car_dic[licnumber]\n",
        "      cost=det[3]\n",
        "      return[licnumber,cost]\n",
        "  def avg_cost(self,car_dic,records):\n",
        "      self.car_dic=car_dic\n",
        "      self.records=records\n",
        "      sum_cost=0\n",
        "      for i in records:\n",
        "          list_1=car_dic[i]\n",
        "          sum_cost+=int(list_1[3])\n",
        "      avg=sum_cost/len(records)\n",
        "      return  avg    \n",
        "  "
      ],
      "execution_count": null,
      "outputs": []
    },
    {
      "cell_type": "code",
      "metadata": {
        "id": "6p0QWJpUWNV0",
        "outputId": "dfb387fb-b66d-4729-e29a-45b00e799a12",
        "colab": {
          "base_uri": "https://localhost:8080/",
          "height": 119
        }
      },
      "source": [
        "#Add a new license to the list of licenses\n",
        "lisence_list=[]\n",
        "g1=garage(lisence_list)\n",
        "x=input(\"Please enter the license number\")\n",
        "lisence_list=g1.add(x)\n",
        "print(lisence_list)\n",
        "y=input(\"Please enter the license number\")\n",
        "lisence_list=g1.add(y)\n",
        "print(lisence_list)\n",
        "z=input(\"Please enter the license number\")\n",
        "lisence_list=g1.add(z)\n",
        "print(lisence_list)"
      ],
      "execution_count": null,
      "outputs": [
        {
          "output_type": "stream",
          "text": [
            "Please enter the license number123\n",
            "['123']\n",
            "Please enter the license number456\n",
            "['123', '456']\n",
            "Please enter the license number678\n",
            "['123', '456', '678']\n"
          ],
          "name": "stdout"
        }
      ]
    },
    {
      "cell_type": "code",
      "metadata": {
        "id": "cvouTd98iZE1",
        "outputId": "d03599f1-b89a-4545-e205-063e05b9027d",
        "colab": {
          "base_uri": "https://localhost:8080/",
          "height": 85
        }
      },
      "source": [
        "#Adding identifying information to a license number\n",
        "car_dic={}\n",
        "car_dic=g1.details(car_dic,x,lisence_list,'Niv',\"Mazda\",\"0544345353\",'0')\n",
        "print(car_dic)\n",
        "\n",
        "car_dic=g1.details(car_dic,y,lisence_list,'Yossi',\"Kia\",\"0546575789\",'0')\n",
        "print(car_dic)\n",
        "\n",
        "car_dic=g1.details(car_dic,z,lisence_list,'Dani',\"Ford\",\"0556855890\",'0')\n",
        "print(car_dic)\n",
        "\n",
        "car_dic=g1.details(car_dic,313434344,lisence_list,'Eyal',\"Suzuki\",\"0557325890\",'0')\n"
      ],
      "execution_count": null,
      "outputs": [
        {
          "output_type": "stream",
          "text": [
            "{'123': ['Niv', 'Mazda', '0544345353', '0']}\n",
            "{'123': ['Niv', 'Mazda', '0544345353', '0'], '456': ['Yossi', 'Kia', '0546575789', '0']}\n",
            "{'123': ['Niv', 'Mazda', '0544345353', '0'], '456': ['Yossi', 'Kia', '0546575789', '0'], '678': ['Dani', 'Ford', '0556855890', '0']}\n",
            "the lisence is not found, please enter new one\n"
          ],
          "name": "stdout"
        }
      ]
    },
    {
      "cell_type": "code",
      "metadata": {
        "id": "gkowZdE2o-ox",
        "outputId": "b57a492e-cf89-440a-adee-8b080dd632d6",
        "colab": {
          "base_uri": "https://localhost:8080/",
          "height": 34
        }
      },
      "source": [
        "#Identify the cost of the repair by the fault number\n",
        "fault_cost=g1.fault(1)\n",
        "print(fault_cost)"
      ],
      "execution_count": null,
      "outputs": [
        {
          "output_type": "stream",
          "text": [
            "100\n"
          ],
          "name": "stdout"
        }
      ]
    },
    {
      "cell_type": "code",
      "metadata": {
        "id": "M5LcQIZmwKib",
        "outputId": "a386cded-eb58-4fae-f75c-7a6a92ae7ac9",
        "colab": {
          "base_uri": "https://localhost:8080/",
          "height": 102
        }
      },
      "source": [
        "#Add the cost of the repair to the identifying details\n",
        "\n",
        "car_dic=g1.add_cost(g1.fault(3),car_dic,x,lisence_list)\n",
        "print(car_dic)\n",
        "car_dic=g1.add_cost(g1.fault(2),car_dic,y,lisence_list)\n",
        "print(car_dic)\n",
        "car_dic=g1.add_cost(g1.fault(1),car_dic,z,lisence_list)\n",
        "print(car_dic)\n",
        "car_dic=g1.add_cost(g1.fault(2),car_dic,123334690,lisence_list)\n",
        "print(car_dic)"
      ],
      "execution_count": null,
      "outputs": [
        {
          "output_type": "stream",
          "text": [
            "{'123': ['Niv', 'Mazda', '0544345353', '600'], '456': ['Yossi', 'Kia', '0546575789', '200'], '678': ['Dani', 'Ford', '0556855890', '100']}\n",
            "{'123': ['Niv', 'Mazda', '0544345353', '600'], '456': ['Yossi', 'Kia', '0546575789', '400'], '678': ['Dani', 'Ford', '0556855890', '100']}\n",
            "{'123': ['Niv', 'Mazda', '0544345353', '600'], '456': ['Yossi', 'Kia', '0546575789', '400'], '678': ['Dani', 'Ford', '0556855890', '200']}\n",
            "The license entered does not exist in the system\n",
            "{'123': ['Niv', 'Mazda', '0544345353', '600'], '456': ['Yossi', 'Kia', '0546575789', '400'], '678': ['Dani', 'Ford', '0556855890', '200']}\n"
          ],
          "name": "stdout"
        }
      ]
    },
    {
      "cell_type": "code",
      "metadata": {
        "id": "UfqDavtJAsDk",
        "outputId": "5c7e13d2-cfb2-4ab3-b1a6-d3ccc60f1fed",
        "colab": {
          "base_uri": "https://localhost:8080/",
          "height": 119
        }
      },
      "source": [
        "#Printing the list of vehicles and the total cost for each vehicle\n",
        "for i in car_dic:\n",
        "    total_cost1=g1.total_cost(car_dic,i)\n",
        "    print(\"{}-{}\\n\".format(total_cost1[0],total_cost1[1]))"
      ],
      "execution_count": null,
      "outputs": [
        {
          "output_type": "stream",
          "text": [
            "123-600\n",
            "\n",
            "456-400\n",
            "\n",
            "678-200\n",
            "\n"
          ],
          "name": "stdout"
        }
      ]
    },
    {
      "cell_type": "code",
      "metadata": {
        "id": "9L8mnuLwIUOx",
        "outputId": "c34ae2e5-d28b-45ae-8dc4-c686a607facf",
        "colab": {
          "base_uri": "https://localhost:8080/",
          "height": 34
        }
      },
      "source": [
        "#Calculate the average repair cost per vehicle\n",
        "avg=g1.avg_cost(car_dic,lisence_list)\n",
        "print(avg)"
      ],
      "execution_count": null,
      "outputs": [
        {
          "output_type": "stream",
          "text": [
            "400.0\n"
          ],
          "name": "stdout"
        }
      ]
    },
    {
      "cell_type": "code",
      "metadata": {
        "id": "Sdpa7eueJwz9",
        "outputId": "e4d260d6-4281-451d-fc08-2af22a875e6d",
        "colab": {
          "base_uri": "https://localhost:8080/",
          "height": 68
        }
      },
      "source": [
        "#Deleting a vehicle from the repository\n",
        "car_dic=g1.erasure(car_dic,'999')\n",
        "print(car_dic)\n",
        "car_dic=g1.erasure(car_dic,x)\n",
        "print(car_dic)"
      ],
      "execution_count": null,
      "outputs": [
        {
          "output_type": "stream",
          "text": [
            "The license entered does not exist in the system\n",
            "{'123': ['Niv', 'Mazda', '0544345353', '600'], '456': ['Yossi', 'Kia', '0546575789', '400'], '678': ['Dani', 'Ford', '0556855890', '200']}\n",
            "{'456': ['Yossi', 'Kia', '0546575789', '400'], '678': ['Dani', 'Ford', '0556855890', '200']}\n"
          ],
          "name": "stdout"
        }
      ]
    },
    {
      "cell_type": "code",
      "metadata": {
        "id": "wgxB3LUtQntA",
        "outputId": "5dc89981-d803-4f93-ce8b-69b4ef5ccbe6",
        "colab": {
          "base_uri": "https://localhost:8080/",
          "height": 85
        }
      },
      "source": [
        "#Check - who is the customer with the biggest debt\n",
        "max_cost=0\n",
        "number=0\n",
        "for i in car_dic:\n",
        "    t_cost=g1.total_cost(car_dic,i)\n",
        "    if int(t_cost[1])>int(max_cost):\n",
        "       number=t_cost[0]\n",
        "       max_cost=t_cost[1] \n",
        "print(\"The customer with the largest debt is-{}\\n\".format(number))\n",
        "print(\"The balance of the debt is-{}\\n\".format(max_cost))"
      ],
      "execution_count": null,
      "outputs": [
        {
          "output_type": "stream",
          "text": [
            "The customer with the largest debt is-456\n",
            "\n",
            "The balance of the debt is-400\n",
            "\n"
          ],
          "name": "stdout"
        }
      ]
    }
  ]
}